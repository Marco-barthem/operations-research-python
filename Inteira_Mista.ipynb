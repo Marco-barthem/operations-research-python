{
  "nbformat": 4,
  "nbformat_minor": 0,
  "metadata": {
    "colab": {
      "provenance": [],
      "authorship_tag": "ABX9TyMOKnbG3kHkqNa4Ye8yUfiZ",
      "include_colab_link": true
    },
    "kernelspec": {
      "name": "python3",
      "display_name": "Python 3"
    },
    "language_info": {
      "name": "python"
    }
  },
  "cells": [
    {
      "cell_type": "markdown",
      "metadata": {
        "id": "view-in-github",
        "colab_type": "text"
      },
      "source": [
        "<a href=\"https://colab.research.google.com/github/Marco-barthem/operations-research-python/blob/main/Inteira_Mista.ipynb\" target=\"_parent\"><img src=\"https://colab.research.google.com/assets/colab-badge.svg\" alt=\"Open In Colab\"/></a>"
      ]
    },
    {
      "cell_type": "code",
      "source": [
        "!pip install pulp"
      ],
      "metadata": {
        "colab": {
          "base_uri": "https://localhost:8080/"
        },
        "id": "u_zZ5pzJNDM9",
        "outputId": "0004899b-d8e2-4db5-a7cd-bb82c8233fd6"
      },
      "execution_count": 2,
      "outputs": [
        {
          "output_type": "stream",
          "name": "stdout",
          "text": [
            "Collecting pulp\n",
            "  Downloading pulp-3.2.1-py3-none-any.whl.metadata (6.9 kB)\n",
            "Downloading pulp-3.2.1-py3-none-any.whl (16.4 MB)\n",
            "\u001b[2K   \u001b[90m━━━━━━━━━━━━━━━━━━━━━━━━━━━━━━━━━━━━━━━━\u001b[0m \u001b[32m16.4/16.4 MB\u001b[0m \u001b[31m68.7 MB/s\u001b[0m eta \u001b[36m0:00:00\u001b[0m\n",
            "\u001b[?25hInstalling collected packages: pulp\n",
            "Successfully installed pulp-3.2.1\n"
          ]
        }
      ]
    },
    {
      "cell_type": "code",
      "execution_count": 46,
      "metadata": {
        "id": "vEnpOtBlLS1i"
      },
      "outputs": [],
      "source": [
        "from pulp import *"
      ]
    },
    {
      "cell_type": "code",
      "source": [
        "prob = LpProblem(\"Problema de transporte\",LpMinimize)"
      ],
      "metadata": {
        "id": "Ee37coBoNJnl"
      },
      "execution_count": 59,
      "outputs": []
    },
    {
      "cell_type": "code",
      "source": [
        "# Variaveis de restrição\n",
        "x11 = LpVariable(\"x11\",lowBound=0,cat=\"Continuous\")\n",
        "x12 = LpVariable(\"x12\",lowBound=0,cat=\"Continuous\")\n",
        "x13 = LpVariable(\"x13\",lowBound=0,cat=\"Continuous\")\n",
        "x21 = LpVariable(\"x21\",lowBound=0,cat=\"Continuous\")\n",
        "x23 = LpVariable(\"x23\",lowBound=0,cat=\"Continuous\")\n",
        "\n",
        "k = LpVariable(\"k\",lowBound=0,cat=\"Integer\")\n",
        "x22 =7*k"
      ],
      "metadata": {
        "id": "vlobIXxTNTcQ"
      },
      "execution_count": 60,
      "outputs": []
    },
    {
      "cell_type": "code",
      "source": [
        "# Função objetivo\n",
        "prob+= (\n",
        "    5 * x11 + 6 * x12 + 5 * x13 +\n",
        "    5 * x21 + 7 * x22 + 7 * x23\n",
        ")"
      ],
      "metadata": {
        "id": "0UDCJ5iqOzG6"
      },
      "execution_count": 61,
      "outputs": []
    },
    {
      "cell_type": "code",
      "source": [
        "# Restrições\n",
        "prob += x11 + x12 + x13 <= 40\n",
        "prob += x21 + x22 +x23 <= 60\n",
        "prob += x11 + x21 == 30\n",
        "prob += x12 + x22 == 35\n",
        "prob+= x13 + x23 == 25"
      ],
      "metadata": {
        "id": "NiraXW_gPF8-"
      },
      "execution_count": 62,
      "outputs": []
    },
    {
      "cell_type": "code",
      "source": [
        "prob.solve()"
      ],
      "metadata": {
        "colab": {
          "base_uri": "https://localhost:8080/"
        },
        "id": "H8OoVMK9PIVU",
        "outputId": "324c2696-ea9c-448f-e4f0-84dd21022491"
      },
      "execution_count": 63,
      "outputs": [
        {
          "output_type": "execute_result",
          "data": {
            "text/plain": [
              "1"
            ]
          },
          "metadata": {},
          "execution_count": 63
        }
      ]
    },
    {
      "cell_type": "code",
      "source": [
        "print(\"Status:\",LpStatus[prob.status])\n",
        "print(\"\\nDistribuição ótima:\")\n",
        "print(\"CD1 -> L1:\",x11.varValue,\"Toneladas\")\n",
        "print(\"CD1 -> L2:\",x12.varValue,\"Toneladas\")\n",
        "print(\"CD1 -> L3:\",x13.varValue,\"Toneladas\")\n",
        "print(\"CD2 -> L1:\",x21.varValue,\"Toneladas\")\n",
        "print(\"CD2 → L2:\", x22.value(), \"toneladas (\", k.varValue, \"cargas de 7t )\")\n",
        "print(\"CD2 → L3:\", x23.varValue, \"toneladas\")\n",
        "\n",
        "print(\"\\Custo mninimo : R$\",value(prob.objective))\n",
        "\n"
      ],
      "metadata": {
        "colab": {
          "base_uri": "https://localhost:8080/"
        },
        "id": "-fWMeIUnQFy2",
        "outputId": "c8db7e3e-80be-482d-f132-c0ffd5654473"
      },
      "execution_count": 64,
      "outputs": [
        {
          "output_type": "stream",
          "name": "stdout",
          "text": [
            "Status: Optimal\n",
            "\n",
            "Distribuição ótima:\n",
            "CD1 -> L1: 0.0 Toneladas\n",
            "CD1 -> L2: 14.0 Toneladas\n",
            "CD1 -> L3: 25.0 Toneladas\n",
            "CD2 -> L1: 30.0 Toneladas\n",
            "CD2 → L2: 21.0 toneladas ( 3.0 cargas de 7t )\n",
            "CD2 → L3: 0.0 toneladas\n",
            "\\Custo mninimo : R$ 506.0\n"
          ]
        }
      ]
    }
  ]
}