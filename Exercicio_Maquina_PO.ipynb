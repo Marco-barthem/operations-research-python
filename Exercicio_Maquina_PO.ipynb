{
  "nbformat": 4,
  "nbformat_minor": 0,
  "metadata": {
    "colab": {
      "provenance": [],
      "mount_file_id": "1PwyjUdeoHU3BKkmWEhbzWb8PWtrIRoh_",
      "authorship_tag": "ABX9TyMv8oZkd0emdFbCpV9bdNBm",
      "include_colab_link": true
    },
    "kernelspec": {
      "name": "python3",
      "display_name": "Python 3"
    },
    "language_info": {
      "name": "python"
    }
  },
  "cells": [
    {
      "cell_type": "markdown",
      "metadata": {
        "id": "view-in-github",
        "colab_type": "text"
      },
      "source": [
        "<a href=\"https://colab.research.google.com/github/Marco-barthem/operations-research-python/blob/main/Exercicio_Maquina_PO.ipynb\" target=\"_parent\"><img src=\"https://colab.research.google.com/assets/colab-badge.svg\" alt=\"Open In Colab\"/></a>"
      ]
    },
    {
      "cell_type": "code",
      "execution_count": 5,
      "metadata": {
        "colab": {
          "base_uri": "https://localhost:8080/"
        },
        "id": "AFN4fp9Zx9FX",
        "outputId": "f118413c-6bb4-449e-ef30-831c46ab8fbd"
      },
      "outputs": [
        {
          "output_type": "stream",
          "name": "stdout",
          "text": [
            "Collecting pulp\n",
            "  Downloading pulp-3.2.1-py3-none-any.whl.metadata (6.9 kB)\n",
            "Downloading pulp-3.2.1-py3-none-any.whl (16.4 MB)\n",
            "\u001b[2K   \u001b[90m━━━━━━━━━━━━━━━━━━━━━━━━━━━━━━━━━━━━━━━━\u001b[0m \u001b[32m16.4/16.4 MB\u001b[0m \u001b[31m91.8 MB/s\u001b[0m eta \u001b[36m0:00:00\u001b[0m\n",
            "\u001b[?25hInstalling collected packages: pulp\n",
            "Successfully installed pulp-3.2.1\n"
          ]
        }
      ],
      "source": [
        "# Importar o PuLP\n",
        "!pip install pulp\n"
      ]
    },
    {
      "cell_type": "code",
      "source": [
        "from pulp import *"
      ],
      "metadata": {
        "id": "DjkJO18RyM-m"
      },
      "execution_count": 6,
      "outputs": []
    },
    {
      "cell_type": "code",
      "source": [
        "#Definir Problema --> Nesse caso é Maximização\n",
        "prob=LpProblem(\"Problemas maquinas\",LpMaximize)"
      ],
      "metadata": {
        "colab": {
          "base_uri": "https://localhost:8080/"
        },
        "id": "t4sCAaJxy2SX",
        "outputId": "e043e9af-ea35-4383-e68f-11f51c02d0db"
      },
      "execution_count": 23,
      "outputs": [
        {
          "output_type": "stream",
          "name": "stderr",
          "text": [
            "/usr/local/lib/python3.11/dist-packages/pulp/pulp.py:1455: UserWarning: Spaces are not permitted in the name. Converted to '_'\n",
            "  warnings.warn(\"Spaces are not permitted in the name. Converted to '_'\")\n"
          ]
        }
      ]
    },
    {
      "cell_type": "code",
      "source": [
        "# Definir variaveis de decisao\n",
        "x = LpVariable(\"x\",lowBound=0,cat='Continuous')\n",
        "y = LpVariable(\"y\",lowBound=0,cat='Continuous')"
      ],
      "metadata": {
        "id": "UzjLnvLgzAnQ"
      },
      "execution_count": 24,
      "outputs": []
    },
    {
      "cell_type": "code",
      "source": [
        "#Definir Função objetivo\n",
        "prob += 0.3 * x + 0.5 * y,\"Lucro total\""
      ],
      "metadata": {
        "id": "M9L13-MSzlBT"
      },
      "execution_count": 25,
      "outputs": []
    },
    {
      "cell_type": "code",
      "source": [
        "#Definir restrições\n",
        "prob += x>= 0\n",
        "prob += y>= 0\n",
        "prob += x <= 4000\n",
        "prob += y<= 6000\n",
        "prob += 3*x + 2*y <= 18000"
      ],
      "metadata": {
        "id": "hBYV2EGb0gQt"
      },
      "execution_count": 26,
      "outputs": []
    },
    {
      "cell_type": "code",
      "source": [
        "prob.solve()"
      ],
      "metadata": {
        "colab": {
          "base_uri": "https://localhost:8080/"
        },
        "id": "TByMBlpx02q6",
        "outputId": "a2a8cd74-0c35-4750-8d16-1d6c2ef3c9ba"
      },
      "execution_count": 27,
      "outputs": [
        {
          "output_type": "execute_result",
          "data": {
            "text/plain": [
              "1"
            ]
          },
          "metadata": {},
          "execution_count": 27
        }
      ]
    },
    {
      "cell_type": "code",
      "source": [
        "# Imprimir os resultados\n",
        "print(\"Status:\", LpStatus[prob.status])\n",
        "print(f\"Produção na Máquina Antiga (x) = {x.varValue:.2f} metros\")\n",
        "print(f\"Produção na Máquina Moderna (y) = {y.varValue:.2f} metros\")\n",
        "print(f\"Lucro Total = R$ {value(prob.objective):.2f}\")"
      ],
      "metadata": {
        "colab": {
          "base_uri": "https://localhost:8080/"
        },
        "id": "93aU5XPI1AEm",
        "outputId": "49410448-54d6-4799-b62f-428c1d689ed3"
      },
      "execution_count": 28,
      "outputs": [
        {
          "output_type": "stream",
          "name": "stdout",
          "text": [
            "Status: Optimal\n",
            "Produção na Máquina Antiga (x) = 2000.00 metros\n",
            "Produção na Máquina Moderna (y) = 6000.00 metros\n",
            "Lucro Total = R$ 3600.00\n"
          ]
        }
      ]
    }
  ]
}