{
  "nbformat": 4,
  "nbformat_minor": 0,
  "metadata": {
    "colab": {
      "provenance": [],
      "authorship_tag": "ABX9TyNU4TDVUfy1rtdWVvTihUoH",
      "include_colab_link": true
    },
    "kernelspec": {
      "name": "python3",
      "display_name": "Python 3"
    },
    "language_info": {
      "name": "python"
    }
  },
  "cells": [
    {
      "cell_type": "markdown",
      "metadata": {
        "id": "view-in-github",
        "colab_type": "text"
      },
      "source": [
        "<a href=\"https://colab.research.google.com/github/Marco-barthem/operations-research-python/blob/main/Problema_3_Variaveis.ipynb\" target=\"_parent\"><img src=\"https://colab.research.google.com/assets/colab-badge.svg\" alt=\"Open In Colab\"/></a>"
      ]
    },
    {
      "cell_type": "code",
      "execution_count": 3,
      "metadata": {
        "colab": {
          "base_uri": "https://localhost:8080/"
        },
        "id": "5lbouWIAo7pT",
        "outputId": "533c61c4-e9ea-4fef-d4b3-2854b15778e2"
      },
      "outputs": [
        {
          "output_type": "stream",
          "name": "stdout",
          "text": [
            "Collecting pulp\n",
            "  Downloading pulp-3.2.1-py3-none-any.whl.metadata (6.9 kB)\n",
            "Downloading pulp-3.2.1-py3-none-any.whl (16.4 MB)\n",
            "\u001b[2K   \u001b[90m━━━━━━━━━━━━━━━━━━━━━━━━━━━━━━━━━━━━━━━━\u001b[0m \u001b[32m16.4/16.4 MB\u001b[0m \u001b[31m65.3 MB/s\u001b[0m eta \u001b[36m0:00:00\u001b[0m\n",
            "\u001b[?25hInstalling collected packages: pulp\n",
            "Successfully installed pulp-3.2.1\n"
          ]
        }
      ],
      "source": [
        "! pip install pulp"
      ]
    },
    {
      "cell_type": "code",
      "source": [
        "from pulp import *\n",
        "prob = LpProblem(\"Horas_estudos\", LpMaximize)"
      ],
      "metadata": {
        "id": "IUto_57Ao-3K"
      },
      "execution_count": 71,
      "outputs": []
    },
    {
      "cell_type": "code",
      "source": [
        "# Variaveis de decisão\n",
        "x = LpVariable(\"x\",lowBound=0,cat=\"Int\")\n",
        "y = LpVariable(\"y\",lowBound=0,cat=\"Int\")\n",
        "z = LpVariable(\"z\",lowBound=0,cat=\"Int\")"
      ],
      "metadata": {
        "id": "0hGfPfhfpb2s"
      },
      "execution_count": 72,
      "outputs": []
    },
    {
      "cell_type": "code",
      "source": [
        "# Função objetivo\n",
        "prob += 7500 * x + 6000 * y + 4500 *z"
      ],
      "metadata": {
        "id": "el7TLrZYpwbO"
      },
      "execution_count": 73,
      "outputs": []
    },
    {
      "cell_type": "code",
      "source": [
        "# Restrições\n",
        "prob += 10* x + 15 * y + 18* z <= 1200\n",
        "prob += x + y + z <= 70\n",
        "#prob += x <= 30\n",
        "prob += x + 2*y + 3*z >= 120"
      ],
      "metadata": {
        "id": "dSNytj8Rp81L"
      },
      "execution_count": 74,
      "outputs": []
    },
    {
      "cell_type": "code",
      "source": [
        "#Resolver problema\n",
        "prob.solve()"
      ],
      "metadata": {
        "colab": {
          "base_uri": "https://localhost:8080/"
        },
        "id": "N2bvC17ZqQ_0",
        "outputId": "4f8b9541-f996-4b56-9502-1cac47b19599"
      },
      "execution_count": 75,
      "outputs": [
        {
          "output_type": "execute_result",
          "data": {
            "text/plain": [
              "1"
            ]
          },
          "metadata": {},
          "execution_count": 75
        }
      ]
    },
    {
      "cell_type": "code",
      "source": [
        "print( \"Status:\", LpStatus[prob.status])\n",
        "print(f\"x = {value(x)}\")\n",
        "print(f\"y = {value(y)}\")\n",
        "print(f\"z = {value(z)}\")\n",
        "print(f\"Média ponderada = {value(prob.objective)}\")"
      ],
      "metadata": {
        "colab": {
          "base_uri": "https://localhost:8080/"
        },
        "id": "Jf7rNzg3qT2m",
        "outputId": "8075434b-d51d-4e22-bc02-7c1b352b12a2"
      },
      "execution_count": 76,
      "outputs": [
        {
          "output_type": "stream",
          "name": "stdout",
          "text": [
            "Status: Optimal\n",
            "x = 45.0\n",
            "y = 0.0\n",
            "z = 25.0\n",
            "Média ponderada = 450000.0\n"
          ]
        }
      ]
    },
    {
      "cell_type": "code",
      "source": [],
      "metadata": {
        "id": "ZOjWXPYcqoS8"
      },
      "execution_count": null,
      "outputs": []
    }
  ]
}